{
 "cells": [
  {
   "cell_type": "markdown",
   "metadata": {},
   "source": [
    "# Model Parameters \n",
    "\n",
    "1. How many parameters will a trigram model have? \n",
    "\n",
    "If we have a V = 20000 then our trigram model will have |v|^3 paramters. "
   ]
  },
  {
   "cell_type": "markdown",
   "metadata": {},
   "source": [
    "# Example: Model estimation \n",
    "\n",
    "Model is already trained, so we want a new sentence. \n",
    "\n",
    "find p(\"but karlsson does.\") \n",
    "- under unigram model \n",
    "- under bigram model \n",
    "- under trigram model \n",
    "\n",
    "How many words (tokens) does the sentence have? \n",
    "\n",
    "<b>Unigram: </b><br> \n",
    "    \n",
    "    P(\"but karlsson does.</S>\") = p(but) X p(karlsson) X p(does) X p(</S>)\n",
    "    \n",
    "<b>Bigram model:</b>\n",
    "\n",
    "p(w_|w_i-1) = count(w_i-1,w_i)/count(w_i-1)\n",
    "\n",
    "    P(<S>\"but karlsson does.</S>\")\n",
    "    = P(but|<S>) X p(Karlsson|but) X p(does|karlsson) * p(.|does) * p(</S>|.) \n",
    "    \n",
    "<b>Trigram Model:</b> \n",
    "\n",
    "    P(<S>\"but karlsson does.</S>\")\n",
    "    = P(but|<S>,<S>) X p(Karlsson|but,<S>) X p(does|karlsson, but) * p(.|does, karlsson) * p(</S<STOP>>|does,.) "
   ]
  },
  {
   "cell_type": "markdown",
   "metadata": {},
   "source": [
    "# Maximum Likelihood Estimate\n",
    "\n",
    "- This looks at each bigram (pair of words) we are going to estimate the conditional probability as the number of times that we have seen a word / the # of times that we've seen the previous word \n",
    "\n",
    "- If i have seen a bigram, I will give it a probability higher than zero\n",
    "- if i haven't seen it, then give it a probability \n",
    "\n",
    "<b> sparse data</b> \n",
    "no matter how much traniing data you have, you won't see all possible n grams in your data "
   ]
  },
  {
   "cell_type": "markdown",
   "metadata": {},
   "source": []
  }
 ],
 "metadata": {
  "kernelspec": {
   "display_name": "Python 3",
   "language": "python",
   "name": "python3"
  },
  "language_info": {
   "codemirror_mode": {
    "name": "ipython",
    "version": 3
   },
   "file_extension": ".py",
   "mimetype": "text/x-python",
   "name": "python",
   "nbconvert_exporter": "python",
   "pygments_lexer": "ipython3",
   "version": "3.8.2"
  }
 },
 "nbformat": 4,
 "nbformat_minor": 4
}
