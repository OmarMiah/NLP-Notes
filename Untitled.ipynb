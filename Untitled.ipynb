{
 "cells": [
  {
   "cell_type": "markdown",
   "metadata": {},
   "source": [
    "# Naive Bayes Classifier\n",
    "\n",
    "input feature vector x1->xn\n",
    "conditional -> joint probability of the class / probability of the class\n",
    "the input is the feature vector\n",
    "\n",
    "get's the highest value \n",
    "\n",
    "find the joint probability will give us the conditional probability \n",
    "\n",
    "each is assumed to be independent \n",
    "\n",
    "similar to the chain rule"
   ]
  }
 ],
 "metadata": {
  "kernelspec": {
   "display_name": "Python 3",
   "language": "python",
   "name": "python3"
  },
  "language_info": {
   "codemirror_mode": {
    "name": "ipython",
    "version": 3
   },
   "file_extension": ".py",
   "mimetype": "text/x-python",
   "name": "python",
   "nbconvert_exporter": "python",
   "pygments_lexer": "ipython3",
   "version": "3.8.2"
  }
 },
 "nbformat": 4,
 "nbformat_minor": 4
}
